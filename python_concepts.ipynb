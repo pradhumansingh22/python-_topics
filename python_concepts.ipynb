{
 "cells": [
  {
   "cell_type": "code",
   "execution_count": 12,
   "metadata": {},
   "outputs": [
    {
     "name": "stdout",
     "output_type": "stream",
     "text": [
      "B\n"
     ]
    }
   ],
   "source": [
    "#Short Hand If Else\n",
    "a = 75\n",
    "b = 80\n",
    "print(\"A\") if a > b else print(\"B\") if a < b else print(\"=\")"
   ]
  },
  {
   "cell_type": "code",
   "execution_count": 1,
   "metadata": {},
   "outputs": [
    {
     "name": "stdout",
     "output_type": "stream",
     "text": [
      "1 BMW\n",
      "2 Ferrari\n",
      "3 Porche\n",
      "4 Lexus\n"
     ]
    }
   ],
   "source": [
    "#Enumerate functions\n",
    "cars = [\"BMW\", \"Ferrari\", \"Porche\", \"Lexus\"]\n",
    "for index, car in enumerate(cars,start = 1):\n",
    "    print(index, car)"
   ]
  },
  {
   "cell_type": "code",
   "execution_count": 7,
   "metadata": {},
   "outputs": [
    {
     "name": "stdout",
     "output_type": "stream",
     "text": [
      "16\n",
      "Result = 8.0\n"
     ]
    }
   ],
   "source": [
    "#Lambda functions\n",
    "# Syntax -> lambda arguments: expression\n",
    "square = lambda x: x*x\n",
    "print(square(4))      #used to create anonymous functions or small one liner functions which can be passed as arguments\n",
    "\n",
    "#Lambda functions can also be used to pass as arguments in other higher order functions\n",
    "def fn(fx, value):\n",
    "    print(f\"Result = {fx(value)/2}\")\n",
    "\n",
    "fn(lambda x: x*x, 4)"
   ]
  },
  {
   "cell_type": "code",
   "execution_count": 14,
   "metadata": {},
   "outputs": [
    {
     "name": "stdout",
     "output_type": "stream",
     "text": [
      "[4, 25, 49, 64, 36, 9, 81]\n",
      "[8, 125, 343, 512, 216, 27, 729]\n"
     ]
    }
   ],
   "source": [
    "#MAP\n",
    "\n",
    "#It performs the operation given in a function or lambda function on an iterable (list)\n",
    "#For example - doing square of every number in a list\n",
    "\n",
    "mylist = [2,5,7,8,6,3,9]\n",
    "\n",
    "def sq(x):\n",
    "    return x*x\n",
    "\n",
    "newlist1 = list(map(sq,mylist))\n",
    "\n",
    "#using lambda function\n",
    "newlist2 = list(map(lambda x: x**3, mylist))\n",
    "print(newlist1)\n",
    "print(newlist2)"
   ]
  },
  {
   "cell_type": "code",
   "execution_count": 16,
   "metadata": {},
   "outputs": [
    {
     "name": "stdout",
     "output_type": "stream",
     "text": [
      "[2, 4, 6, 8]\n",
      "[1, 3, 5, 7, 9]\n"
     ]
    }
   ],
   "source": [
    "#FILTER\n",
    "\n",
    "#It filters an iterable (list) according to a function or lambda function.\n",
    "#For example - only even numbers  OR numbers greater than x.\n",
    "\n",
    "ls = [1,2,3,4,5,6,7,8,9]\n",
    "def even(a):\n",
    "    return a % 2 == 0\n",
    "newls1 = list(filter(even, ls))\n",
    "print(newls1)\n",
    "\n",
    "#using lambda function\n",
    "newls2 = list(filter(lambda x: x % 2 != 0, ls))\n",
    "print(newls2)"
   ]
  },
  {
   "cell_type": "code",
   "execution_count": 18,
   "metadata": {},
   "outputs": [
    {
     "name": "stdout",
     "output_type": "stream",
     "text": [
      "30\n",
      "-26\n"
     ]
    }
   ],
   "source": [
    "#REDUCE\n",
    "\n",
    "#The reduce function is a higher-order function that applies a function \n",
    "#to a sequence and returns a single value.\n",
    "\n",
    "#The reduce function applies the function to the first two elements in\n",
    "#the iterable and then applies the function to the result and the next element, and so on.\n",
    "#then the reduce function returns the final result.\n",
    "\n",
    "from functools import reduce\n",
    "l = [2,4,6,8,10]\n",
    "def mysum(x,y):\n",
    "    return x+y\n",
    "\n",
    "res1 = reduce(mysum, l)\n",
    "print(res1)\n",
    "\n",
    "#Using lambda function\n",
    "res2 = reduce(lambda x,y: x-y, l)\n",
    "print(res2)"
   ]
  },
  {
   "cell_type": "code",
   "execution_count": 21,
   "metadata": {},
   "outputs": [
    {
     "name": "stdout",
     "output_type": "stream",
     "text": [
      "True True\n",
      "True False\n"
     ]
    }
   ],
   "source": [
    "# 'is' vs '==' in python\n",
    "# is -> compares the identity of two objects  (\" kye ye vahi cheej hai????\")\n",
    "# == -> compares the value of two objects\n",
    "\n",
    "a = 3\n",
    "b = 3\n",
    "print(a==b, a is b)   # variables are immutable so they are stored at same location in memory\n",
    "\n",
    "x = [1,2,3]\n",
    "y = [1,2,3]\n",
    "print(x==y, x is y)   # lists are immutable so they are stored at different memory locations"
   ]
  }
 ],
 "metadata": {
  "kernelspec": {
   "display_name": "Python 3",
   "language": "python",
   "name": "python3"
  },
  "language_info": {
   "codemirror_mode": {
    "name": "ipython",
    "version": 3
   },
   "file_extension": ".py",
   "mimetype": "text/x-python",
   "name": "python",
   "nbconvert_exporter": "python",
   "pygments_lexer": "ipython3",
   "version": "3.12.2"
  }
 },
 "nbformat": 4,
 "nbformat_minor": 2
}
